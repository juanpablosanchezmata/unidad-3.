{
  "nbformat": 4,
  "nbformat_minor": 0,
  "metadata": {
    "colab": {
      "provenance": [],
      "authorship_tag": "ABX9TyNC5tG0jSbwwH/GGj3KYMND",
      "include_colab_link": true
    },
    "kernelspec": {
      "name": "python3",
      "display_name": "Python 3"
    },
    "language_info": {
      "name": "python"
    }
  },
  "cells": [
    {
      "cell_type": "markdown",
      "metadata": {
        "id": "view-in-github",
        "colab_type": "text"
      },
      "source": [
        "<a href=\"https://colab.research.google.com/github/juanpablosanchezmata/unidad-4/blob/main/Busqueda.ipynb\" target=\"_parent\"><img src=\"https://colab.research.google.com/assets/colab-badge.svg\" alt=\"Open In Colab\"/></a>"
      ]
    },
    {
      "cell_type": "code",
      "source": [
        "def search_element(sorted_arr, n, element):\n",
        "\n",
        "\ti = 0\n",
        "\n",
        "\tstart = 0\n",
        "\tend = n - 1\n",
        "\n",
        "\twhile i < n:\n",
        "\t\tmiddle = (start + end) // 2\n",
        "\n",
        "\t\tif sorted_arr[middle] == element:\n",
        "\t\t\treturn True\n",
        "\t\telif sorted_arr[middle] < element:\n",
        "\t\t\tstart = middle + 1\n",
        "\t\telse:\n",
        "\t\t\tend = middle - 1\n",
        "\t\ti += 1\n",
        "\treturn False\n",
        "\n",
        "\n",
        "if __name__ == '__main__':\n",
        "\tarr = [1, 2, 3, 4, 5, 6, 7, 8, 9, 10]\n",
        "\tn = 10\n",
        "\telement_to_be_searched = 9\n",
        "\n",
        "\tif search_element(arr, n, element_to_be_searched):\n",
        "\t\tprint(element_to_be_searched, \"Fue encontrado\")\n",
        "\telse:\n",
        "\t\tprint(element_to_be_searched, \"No fue encontrado\")"
      ],
      "metadata": {
        "colab": {
          "base_uri": "https://localhost:8080/"
        },
        "id": "OXsYfTIJxieN",
        "outputId": "99c89ef0-a571-482a-dc41-323192afa91d"
      },
      "execution_count": 15,
      "outputs": [
        {
          "output_type": "stream",
          "name": "stdout",
          "text": [
            "9 Fue encontrado\n"
          ]
        }
      ]
    }
  ]
}