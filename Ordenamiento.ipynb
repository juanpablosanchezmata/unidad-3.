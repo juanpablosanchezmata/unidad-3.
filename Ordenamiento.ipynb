{
  "nbformat": 4,
  "nbformat_minor": 0,
  "metadata": {
    "colab": {
      "provenance": [],
      "authorship_tag": "ABX9TyOhk+rjio+7UlNYUqzB523w",
      "include_colab_link": true
    },
    "kernelspec": {
      "name": "python3",
      "display_name": "Python 3"
    },
    "language_info": {
      "name": "python"
    }
  },
  "cells": [
    {
      "cell_type": "markdown",
      "metadata": {
        "id": "view-in-github",
        "colab_type": "text"
      },
      "source": [
        "<a href=\"https://colab.research.google.com/github/juanpablosanchezmata/unidad-4/blob/main/Ordenamiento.ipynb\" target=\"_parent\"><img src=\"https://colab.research.google.com/assets/colab-badge.svg\" alt=\"Open In Colab\"/></a>"
      ]
    },
    {
      "cell_type": "code",
      "execution_count": 4,
      "metadata": {
        "colab": {
          "base_uri": "https://localhost:8080/"
        },
        "id": "ielAjWwdfULT",
        "outputId": "2ba9013e-89fa-4405-baa9-bb7e76c252c9"
      },
      "outputs": [
        {
          "output_type": "stream",
          "name": "stdout",
          "text": [
            "Arreglo de números original:\n",
            "[23, 25, 30, 1, 28, 11, 96, 2, 3, 1]\n",
            "Arreglo de números ordenado: \n",
            "[1, 1, 2, 3, 11, 23, 25, 28, 30, 96]\n",
            "Arreglo de números ordenado descendente: \n",
            "[96, 30, 28, 25, 23, 11, 3, 2, 1, 1]\n",
            "Arreglo de cadenas original:\n",
            "['Luis', 'Link', 'Mario', 'Aloy', 'Claire', 'Leon', 'Zelda', 'María', 'King K. Rool']\n",
            "Arreglo de cadenas ordenado: \n",
            "['Aloy', 'Claire', 'King K. Rool', 'Leon', 'Link', 'Luis', 'Mario', 'María', 'Zelda']\n",
            "Arreglo de cadenas ordenado descendente: \n",
            "['Zelda', 'María', 'Mario', 'Luis', 'Link', 'Leon', 'King K. Rool', 'Claire', 'Aloy']\n"
          ]
        }
      ],
      "source": [
        "def seleccion(arreglo):\n",
        "    longitud = len(arreglo)\n",
        "    for i in range(longitud-1):\n",
        "        for j in range(i+1, longitud):\n",
        "            if arreglo[i] > arreglo[j]:\n",
        "                # Intercambiar\n",
        "                arreglo[i], arreglo[j] = arreglo[j], arreglo[i]\n",
        "\n",
        "\n",
        "def seleccion_descendente(arreglo):\n",
        "    longitud = len(arreglo)\n",
        "    for i in range(longitud-1):\n",
        "        for j in range(i+1, longitud):\n",
        "            if arreglo[i] < arreglo[j]:\n",
        "                # Intercambiar\n",
        "                arreglo[i], arreglo[j] = arreglo[j], arreglo[i]\n",
        "\n",
        "\n",
        "numeros = [23, 25, 30, 1, 28, 11, 96, 2, 3, 1]\n",
        "print(\"Arreglo de números original:\")\n",
        "print(numeros)\n",
        "seleccion(numeros)\n",
        "print(\"Arreglo de números ordenado: \")\n",
        "print(numeros)\n",
        "seleccion_descendente(numeros)\n",
        "print(\"Arreglo de números ordenado descendente: \")\n",
        "print(numeros)\n",
        "cadenas = [\"Luis\", \"Link\", \"Mario\", \"Aloy\", \"Claire\",\n",
        "           \"Leon\", \"Zelda\", \"María\", \"King K. Rool\"]\n",
        "print(\"Arreglo de cadenas original:\")\n",
        "print(cadenas)\n",
        "seleccion(cadenas)\n",
        "print(\"Arreglo de cadenas ordenado: \")\n",
        "print(cadenas)\n",
        "seleccion_descendente(cadenas)\n",
        "print(\"Arreglo de cadenas ordenado descendente: \")\n",
        "print(cadenas)"
      ]
    }
  ]
}